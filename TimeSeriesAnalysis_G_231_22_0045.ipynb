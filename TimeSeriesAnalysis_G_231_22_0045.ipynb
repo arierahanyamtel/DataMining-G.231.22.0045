{
  "nbformat": 4,
  "nbformat_minor": 0,
  "metadata": {
    "colab": {
      "private_outputs": true,
      "provenance": []
    },
    "kernelspec": {
      "name": "python3",
      "display_name": "Python 3"
    },
    "language_info": {
      "name": "python"
    }
  },
  "cells": [
    {
      "cell_type": "code",
      "execution_count": null,
      "metadata": {
        "id": "YZjphHYApNHC"
      },
      "outputs": [],
      "source": [
        "import numpy\n",
        "from pandas import read_csv\n",
        "from sklearn.metrics import mean_squared_error\n",
        "from math import sqrt\n",
        "from math import log\n",
        "from math import exp\n",
        "from scipy.stats import boxcox\n",
        "from pandas import DataFrame\n",
        "from pandas import Grouper\n",
        "from pandas import Series\n",
        "from pandas import concat\n",
        "from pandas.plotting import lag_plot\n",
        "from matplotlib import pyplot\n",
        "from statsmodels.tsa.stattools import adfuller\n",
        "from statsmodels.tsa.arima_model import ARIMA\n",
        "from statsmodels.tsa.arima_model import ARIMAResults\n",
        "from statsmodels.tsa.seasonal import seasonal_decompose\n",
        "from statsmodels.graphics.tsaplots import plot_acf\n",
        "from statsmodels.graphics.tsaplots import plot_pacf\n",
        "from statsmodels.graphics.gofplots import qqplot"
      ]
    },
    {
      "cell_type": "code",
      "source": [
        "import pandas as pd\n",
        "series = pd.read_csv('/content/AirPassengers.csv', header=0, index_col=0, parse_dates=True)\n",
        "series = series.squeeze()\n",
        "print(series.head())\n"
      ],
      "metadata": {
        "id": "3q1WXpgHpS7I"
      },
      "execution_count": null,
      "outputs": []
    },
    {
      "cell_type": "code",
      "source": [
        "print(series.describe())"
      ],
      "metadata": {
        "id": "B969-WelrFBI"
      },
      "execution_count": null,
      "outputs": []
    },
    {
      "cell_type": "code",
      "source": [
        "#visualisasi nilai pada plot garis,yang dapat memberikan banyak wawasan tantangan masalah tersebut\n",
        "series.plot()\n",
        "pyplot.show()"
      ],
      "metadata": {
        "id": "hnE6QVnarTKs"
      },
      "execution_count": null,
      "outputs": []
    },
    {
      "cell_type": "code",
      "source": [
        "#konfigurasika asumsi dengan plot garis tahunan\n",
        "groups = series['1949':'1957'].groupby(Grouper(freq='A'))\n",
        "years = DataFrame()\n",
        "pyplot.figure()\n",
        "i = 1\n",
        "n_groups = len(groups)\n",
        "for name, group in groups:\n",
        "  pyplot.subplot((n_groups*100)+ 10 + i)\n",
        "  i += 1\n",
        "  pyplot.plot(group)\n",
        "pyplot.show()"
      ],
      "metadata": {
        "id": "xkY6mvGArp4A"
      },
      "execution_count": null,
      "outputs": []
    },
    {
      "cell_type": "code",
      "source": [
        "#struktur Data\n",
        "pyplot.figure(1)\n",
        "pyplot.subplot(211)\n",
        "series.hist()\n",
        "pyplot.subplot(212)\n",
        "series.plot(kind='kde')\n",
        "pyplot.show()"
      ],
      "metadata": {
        "id": "2cT8lqotsem_"
      },
      "execution_count": null,
      "outputs": []
    },
    {
      "cell_type": "code",
      "source": [
        "#analisis data bulanan berdasarkan tahun dan gambar tentang penyebaran observasi untuk setiap tahun\n",
        "groups = series['1949':'1960'].groupby(Grouper(freq='A'))\n",
        "years = DataFrame()\n",
        "for name, group in groups:\n",
        "  years[name.year] = group.values\n",
        "years.boxplot()\n",
        "pyplot.show()"
      ],
      "metadata": {
        "id": "kJiUrn0utCQu"
      },
      "execution_count": null,
      "outputs": []
    },
    {
      "cell_type": "code",
      "source": [
        "#uraikan deret waktu untuk kejelasan lebih lanjut tentang komponennya,level,tren,musiman, dan kebisingan.\n",
        "result = seasonal_decompose(series, model='multiplicative')\n",
        "result.plot()\n",
        "pyplot.show()"
      ],
      "metadata": {
        "id": "-e3M6qzyt4cR"
      },
      "execution_count": null,
      "outputs": []
    }
  ]
}