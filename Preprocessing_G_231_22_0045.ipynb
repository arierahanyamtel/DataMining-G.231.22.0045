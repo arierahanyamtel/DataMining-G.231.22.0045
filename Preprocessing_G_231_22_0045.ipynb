{
  "nbformat": 4,
  "nbformat_minor": 0,
  "metadata": {
    "colab": {
      "provenance": []
    },
    "kernelspec": {
      "name": "python3",
      "display_name": "Python 3"
    },
    "language_info": {
      "name": "python"
    }
  },
  "cells": [
    {
      "cell_type": "code",
      "execution_count": 3,
      "metadata": {
        "id": "cjzakds5B71d"
      },
      "outputs": [],
      "source": [
        "import numpy as np\n",
        "from sklearn import preprocessing\n"
      ]
    },
    {
      "cell_type": "code",
      "source": [
        "input_data = np.array([[5.1, -2.9, 3.3,],\n",
        "                       [-1.2, 7.8, -6.1],\n",
        "                       [3.9, 0.4, 2.1],\n",
        "                       [7.3, -9.9, -4.5]])\n"
      ],
      "metadata": {
        "id": "QVHxMMU2DPrn"
      },
      "execution_count": 4,
      "outputs": []
    },
    {
      "cell_type": "code",
      "source": [
        "#binarize data (binarisasi Data --> mengubah nilainya menjadi 0 dan 1 )\n",
        "data_binarized = preprocessing.Binarizer(threshold=2.1).transform(input_data)\n",
        "print(\"\\nBinarized data:\\n\", data_binarized)"
      ],
      "metadata": {
        "colab": {
          "base_uri": "https://localhost:8080/"
        },
        "id": "L9KLu34FCNPv",
        "outputId": "cf8d6d82-cd5f-45e3-fbdb-4963c4e84083"
      },
      "execution_count": 7,
      "outputs": [
        {
          "output_type": "stream",
          "name": "stdout",
          "text": [
            "\n",
            "Binarized data:\n",
            " [[1. 0. 1.]\n",
            " [0. 1. 0.]\n",
            " [1. 0. 0.]\n",
            " [1. 0. 0.]]\n"
          ]
        }
      ]
    },
    {
      "cell_type": "code",
      "source": [
        "#print mean and standart deviation (cetak rata-rata dan standar devisiasi)\n",
        "print(\"\\nBEFORE:\")\n",
        "print(\"Mean =\", input_data.mean(axis=0))\n",
        "print(\"Std deviation\", input_data.std(axis=0))"
      ],
      "metadata": {
        "colab": {
          "base_uri": "https://localhost:8080/"
        },
        "id": "RKqNNtdBD-N-",
        "outputId": "2f326dc3-4894-4a1b-9d05-1b6293b943c4"
      },
      "execution_count": 10,
      "outputs": [
        {
          "output_type": "stream",
          "name": "stdout",
          "text": [
            "\n",
            "BEFORE:\n",
            "Mean = [ 3.775 -1.15  -1.3  ]\n",
            "Std deviation [3.12039661 6.36651396 4.0620192 ]\n"
          ]
        }
      ]
    },
    {
      "cell_type": "code",
      "source": [
        "# Menghapus rata-rata\n",
        "data_scaled = preprocessing.scale(input_data)\n",
        "print(\"\\nAFTER:\")\n",
        "print(\"Mean\", data_scaled.mean(axis=0))\n",
        "print(\"Std deviation\", data_scaled.std(axis=0))"
      ],
      "metadata": {
        "colab": {
          "base_uri": "https://localhost:8080/"
        },
        "id": "v6FVng68FAtK",
        "outputId": "0bc7bc93-95c1-497e-efb9-9f8e7e518847"
      },
      "execution_count": 14,
      "outputs": [
        {
          "output_type": "stream",
          "name": "stdout",
          "text": [
            "\n",
            "AFTER:\n",
            "Mean [1.11022302e-16 0.00000000e+00 2.77555756e-17]\n",
            "Std deviation [1. 1. 1.]\n"
          ]
        }
      ]
    },
    {
      "cell_type": "code",
      "source": [
        "# Min-max scaling data (menentukan nilai max dan min)\n",
        "data_scaled_minmax = preprocessing.MinMaxScaler(feature_range=(0, 1))\n",
        "data_scaled_minmax = data_scaled_minmax.fit_transform(input_data)\n",
        "print(\"\\nMin max scaled data:\\n\", data_scaled_minmax)"
      ],
      "metadata": {
        "colab": {
          "base_uri": "https://localhost:8080/"
        },
        "id": "6z1P1BKqFFd2",
        "outputId": "4991e7b8-56e9-4d07-99d1-a3e2c0ff6814"
      },
      "execution_count": 13,
      "outputs": [
        {
          "output_type": "stream",
          "name": "stdout",
          "text": [
            "\n",
            "Min max scaled data:\n",
            " [[0.74117647 0.39548023 1.        ]\n",
            " [0.         1.         0.        ]\n",
            " [0.6        0.5819209  0.87234043]\n",
            " [1.         0.         0.17021277]]\n"
          ]
        }
      ]
    },
    {
      "cell_type": "code",
      "source": [
        "# Normalize data normalisasi data\n",
        "data_normalized_l1 = preprocessing.normalize(input_data, norm='l1')\n",
        "data_normalized_l2 = preprocessing.normalize(input_data, norm='l2')\n",
        "print(\"\\nL1 normalized data:\\n\", data_normalized_l1)\n",
        "print(\"\\nL2 normalized data:\\n\", data_normalized_l2)"
      ],
      "metadata": {
        "colab": {
          "base_uri": "https://localhost:8080/"
        },
        "id": "lfXZkw1SHfCX",
        "outputId": "fab06c15-adcc-424e-a16c-ec9b49060b06"
      },
      "execution_count": 18,
      "outputs": [
        {
          "output_type": "stream",
          "name": "stdout",
          "text": [
            "\n",
            "L1 normalized data:\n",
            " [[ 0.45132743 -0.25663717  0.2920354 ]\n",
            " [-0.0794702   0.51655629 -0.40397351]\n",
            " [ 0.609375    0.0625      0.328125  ]\n",
            " [ 0.33640553 -0.4562212  -0.20737327]]\n",
            "\n",
            "L2 normalized data:\n",
            " [[ 0.75765788 -0.43082507  0.49024922]\n",
            " [-0.12030718  0.78199664 -0.61156148]\n",
            " [ 0.87690281  0.08993875  0.47217844]\n",
            " [ 0.55734935 -0.75585734 -0.34357152]]\n"
          ]
        }
      ]
    },
    {
      "cell_type": "code",
      "source": [],
      "metadata": {
        "id": "P3ekbTM7HiTM"
      },
      "execution_count": null,
      "outputs": []
    }
  ]
}